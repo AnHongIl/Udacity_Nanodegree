{
 "cells": [
  {
   "cell_type": "markdown",
   "metadata": {},
   "source": [
    "# 0. Overview\n",
    "\n",
    "- Objectives\n",
    "  - The goal is to get an average score of +30 over 100 consecutive episodes.\n",
    "- Applied algorithms\n",
    "  - Deep Deterministic Policy Gradients(DDPG)\n",
    "  - Shared Memory\n",
    "  - Exploration: OUNoise"
   ]
  },
  {
   "cell_type": "markdown",
   "metadata": {},
   "source": [
    "# 1. Setup the environment\n",
    "- Solve second version environment with 20 agents\n",
    "- Import required libraries\n",
    "- Import network"
   ]
  },
  {
   "cell_type": "code",
   "execution_count": 1,
   "metadata": {},
   "outputs": [],
   "source": [
    "from unityagents import UnityEnvironment\n",
    "import numpy as np\n",
    "import tensorflow as tf\n",
    "import time\n",
    "import matplotlib.pyplot as plt\n",
    "\n",
    "from src.Agent import DDPGAgent"
   ]
  },
  {
   "cell_type": "markdown",
   "metadata": {},
   "source": [
    "# 2.  Get the default brain"
   ]
  },
  {
   "cell_type": "code",
   "execution_count": 2,
   "metadata": {
    "scrolled": true
   },
   "outputs": [
    {
     "name": "stderr",
     "output_type": "stream",
     "text": [
      "INFO:unityagents:\n",
      "'Academy' started successfully!\n",
      "Unity Academy name: Academy\n",
      "        Number of Brains: 1\n",
      "        Number of External Brains : 1\n",
      "        Lesson number : 0\n",
      "        Reset Parameters :\n",
      "\t\tgoal_speed -> 1.0\n",
      "\t\tgoal_size -> 5.0\n",
      "Unity brain name: ReacherBrain\n",
      "        Number of Visual Observations (per agent): 0\n",
      "        Vector Observation space type: continuous\n",
      "        Vector Observation space size (per agent): 33\n",
      "        Number of stacked Vector Observation: 1\n",
      "        Vector Action space type: continuous\n",
      "        Vector Action space size (per agent): 4\n",
      "        Vector Action descriptions: , , , \n"
     ]
    }
   ],
   "source": [
    "env = UnityEnvironment(file_name=\"Reacher_Windows_x86_64\\Reacher.exe\")\n",
    "brain_name = env.brain_names[0]\n",
    "brain = env.brains[brain_name]"
   ]
  },
  {
   "cell_type": "markdown",
   "metadata": {},
   "source": [
    "# 3. Set hyperparameters"
   ]
  },
  {
   "cell_type": "code",
   "execution_count": 3,
   "metadata": {},
   "outputs": [],
   "source": [
    "ACTION_SIZE = 4\n",
    "STATE_SIZE = 33\n",
    "\n",
    "TRAINING_EPISODES = 1000\n",
    "\n",
    "LR_ACTOR = 1e-4\n",
    "LR_CRITIC = 3e-4\n",
    "\n",
    "HIDDEN_UNITS = [512, 256]\n",
    "\n",
    "GAMMA = 0.99\n",
    "TAU = 1e-3\n",
    "\n",
    "EVERY = 100\n",
    "\n",
    "NUM_ACTORS = 20\n",
    "\n",
    "EPSILON = 0.3\n",
    "EPSILON_DECAY = 1e-6\n",
    "\n",
    "MEMORY_SIZE = int(1e6)\n",
    "BATCH_SIZE = 256"
   ]
  },
  {
   "cell_type": "markdown",
   "metadata": {},
   "source": [
    "# 4. Train"
   ]
  },
  {
   "cell_type": "code",
   "execution_count": 4,
   "metadata": {
    "scrolled": true
   },
   "outputs": [
    {
     "name": "stdout",
     "output_type": "stream",
     "text": [
      "Ep: 10\tAverage Score: 1.80\tMax Score: 3.48\n",
      "Ep: 20\tAverage Score: 5.51\tMax Score: 15.26\n",
      "Ep: 30\tAverage Score: 10.56\tMax Score: 27.97\n",
      "Ep: 40\tAverage Score: 16.04\tMax Score: 35.65\n",
      "Ep: 50\tAverage Score: 19.66\tMax Score: 36.33\n",
      "Ep: 60\tAverage Score: 22.20\tMax Score: 36.33\n",
      "Ep: 70\tAverage Score: 23.99\tMax Score: 36.33\n",
      "Ep: 80\tAverage Score: 25.33\tMax Score: 36.87\n",
      "Ep: 90\tAverage Score: 26.19\tMax Score: 36.87\n",
      "Ep: 100\tAverage Score: 26.91\tMax Score: 36.87\n",
      "Environment solved in 110 epsidoes!\tAverage Score: 30.26\n"
     ]
    },
    {
     "data": {
      "image/png": "[encoded data removed]",
      "text/plain": [
       "<Figure size 432x288 with 1 Axes>"
      ]
     },
     "metadata": {
      "needs_background": "light"
     },
     "output_type": "display_data"
    }
   ],
   "source": [
    "tf.reset_default_graph()\n",
    "\n",
    "with tf.device(\"/device:GPU:0\"):\n",
    "    agent = DDPGAgent(STATE_SIZE, ACTION_SIZE, 1234, HIDDEN_UNITS, LR_ACTOR, LR_CRITIC, BATCH_SIZE, GAMMA, MEMORY_SIZE, NUM_ACTORS, EPSILON, TAU, EPSILON_DECAY)\n",
    "\n",
    "save_file = 'model/p2_ddpg.ckpt'\n",
    "saver = tf.train.Saver()\n",
    "total_scores = []\n",
    "\n",
    "with tf.Session(config=tf.ConfigProto(log_device_placement=True)) as sess:\n",
    "    sess.run(tf.global_variables_initializer())\n",
    "    agent.set_session(sess)\n",
    "    \n",
    "    agent.hard_update()\n",
    "\n",
    "    for ep in range(TRAINING_EPISODES):    \n",
    "        agent.reset()\n",
    "        \n",
    "        env_info = env.reset(train_mode=True)[brain_name]\n",
    "        state = env_info.vector_observations\n",
    "        score = 0\n",
    "\n",
    "        while True:\n",
    "            action = agent.act(state, True)\n",
    "            \n",
    "            env_info = env.step(action)[brain_name]\n",
    "            reward = env_info.rewards\n",
    "            next_state = env_info.vector_observations\n",
    "            done = env_info.local_done\n",
    "\n",
    "            agent.step(state, action, reward, next_state, done)\n",
    "            state = next_state\n",
    "            score += sum(reward) / NUM_ACTORS\n",
    "            \n",
    "            if np.any(done):\n",
    "                break\n",
    "        \n",
    "        total_scores.append(score)\n",
    "        if ep > 0 and ep % 10 == 0:\n",
    "            print(\"Ep: {}\\tAverage Score: {:.2f}\\tMax Score: {:.2f}\".format(ep, np.mean(total_scores), np.max(total_scores)))\n",
    "\n",
    "        if np.mean(total_scores[-100:]) > 30.0:\n",
    "            print(\"Environment solved in {} epsidoes!\\tAverage Score: {:.2f}\".format(ep+1, np.mean(total_scores[-100:])))\n",
    "            saver.save(sess, save_file)            \n",
    "            break\n",
    "        \n",
    "fig = plt.figure()\n",
    "fig.add_subplot(111)\n",
    "plt.plot(np.arange(1, len(total_scores)+1), total_scores)\n",
    "plt.ylim(0, 45)\n",
    "plt.ylabel('Score')\n",
    "plt.xlabel('Episode #')\n",
    "plt.show()   "
   ]
  },
  {
   "cell_type": "markdown",
   "metadata": {},
   "source": [
    "# 5. Validation"
   ]
  },
  {
   "cell_type": "code",
   "execution_count": 6,
   "metadata": {},
   "outputs": [
    {
     "name": "stderr",
     "output_type": "stream",
     "text": [
      "INFO:tensorflow:Restoring parameters from model/p2_ddpg.ckpt\n"
     ]
    },
    {
     "name": "stdout",
     "output_type": "stream",
     "text": [
      "Ep: 1, Score: 37.50, Average Score: 37.50\n",
      "Ep: 2, Score: 37.72, Average Score: 37.61\n",
      "Ep: 3, Score: 36.14, Average Score: 37.12\n",
      "Ep: 4, Score: 35.97, Average Score: 36.83\n",
      "Ep: 5, Score: 37.09, Average Score: 36.88\n",
      "Ep: 6, Score: 38.09, Average Score: 37.09\n",
      "Ep: 7, Score: 38.01, Average Score: 37.22\n",
      "Ep: 8, Score: 35.78, Average Score: 37.04\n",
      "Ep: 9, Score: 38.09, Average Score: 37.15\n",
      "Ep: 10, Score: 37.71, Average Score: 37.21\n",
      "Ep: 11, Score: 36.47, Average Score: 37.14\n",
      "Ep: 12, Score: 36.87, Average Score: 37.12\n",
      "Ep: 13, Score: 37.50, Average Score: 37.15\n",
      "Ep: 14, Score: 37.40, Average Score: 37.17\n",
      "Ep: 15, Score: 37.29, Average Score: 37.18\n",
      "Ep: 16, Score: 36.24, Average Score: 37.12\n",
      "Ep: 17, Score: 37.32, Average Score: 37.13\n",
      "Ep: 18, Score: 36.70, Average Score: 37.11\n",
      "Ep: 19, Score: 37.93, Average Score: 37.15\n",
      "Ep: 20, Score: 36.89, Average Score: 37.14\n",
      "Ep: 21, Score: 38.05, Average Score: 37.18\n",
      "Ep: 22, Score: 37.63, Average Score: 37.20\n",
      "Ep: 23, Score: 36.10, Average Score: 37.15\n",
      "Ep: 24, Score: 36.41, Average Score: 37.12\n",
      "Ep: 25, Score: 37.24, Average Score: 37.13\n",
      "Ep: 26, Score: 36.59, Average Score: 37.10\n",
      "Ep: 27, Score: 37.18, Average Score: 37.11\n",
      "Ep: 28, Score: 36.76, Average Score: 37.10\n",
      "Ep: 29, Score: 37.35, Average Score: 37.10\n",
      "Ep: 30, Score: 37.67, Average Score: 37.12\n",
      "Ep: 31, Score: 37.80, Average Score: 37.14\n",
      "Ep: 32, Score: 36.73, Average Score: 37.13\n",
      "Ep: 33, Score: 38.43, Average Score: 37.17\n",
      "Ep: 34, Score: 37.98, Average Score: 37.20\n",
      "Ep: 35, Score: 37.50, Average Score: 37.20\n",
      "Ep: 36, Score: 37.42, Average Score: 37.21\n",
      "Ep: 37, Score: 36.61, Average Score: 37.19\n",
      "Ep: 38, Score: 37.93, Average Score: 37.21\n",
      "Ep: 39, Score: 34.99, Average Score: 37.16\n",
      "Ep: 40, Score: 36.96, Average Score: 37.15\n",
      "Ep: 41, Score: 37.84, Average Score: 37.17\n",
      "Ep: 42, Score: 36.79, Average Score: 37.16\n",
      "Ep: 43, Score: 37.28, Average Score: 37.16\n",
      "Ep: 44, Score: 36.63, Average Score: 37.15\n",
      "Ep: 45, Score: 37.91, Average Score: 37.17\n",
      "Ep: 46, Score: 34.78, Average Score: 37.11\n",
      "Ep: 47, Score: 36.34, Average Score: 37.10\n",
      "Ep: 48, Score: 37.97, Average Score: 37.12\n",
      "Ep: 49, Score: 38.02, Average Score: 37.13\n",
      "Ep: 50, Score: 37.44, Average Score: 37.14\n",
      "Ep: 51, Score: 37.57, Average Score: 37.15\n",
      "Ep: 52, Score: 34.99, Average Score: 37.11\n",
      "Ep: 53, Score: 36.32, Average Score: 37.09\n",
      "Ep: 54, Score: 37.09, Average Score: 37.09\n",
      "Ep: 55, Score: 36.24, Average Score: 37.08\n",
      "Ep: 56, Score: 37.24, Average Score: 37.08\n",
      "Ep: 57, Score: 36.78, Average Score: 37.08\n",
      "Ep: 58, Score: 37.35, Average Score: 37.08\n",
      "Ep: 59, Score: 37.55, Average Score: 37.09\n",
      "Ep: 60, Score: 37.28, Average Score: 37.09\n",
      "Ep: 61, Score: 37.72, Average Score: 37.10\n",
      "Ep: 62, Score: 35.01, Average Score: 37.07\n",
      "Ep: 63, Score: 37.54, Average Score: 37.08\n",
      "Ep: 64, Score: 37.48, Average Score: 37.08\n",
      "Ep: 65, Score: 38.26, Average Score: 37.10\n",
      "Ep: 66, Score: 36.32, Average Score: 37.09\n",
      "Ep: 67, Score: 36.45, Average Score: 37.08\n",
      "Ep: 68, Score: 37.58, Average Score: 37.09\n",
      "Ep: 69, Score: 37.52, Average Score: 37.09\n",
      "Ep: 70, Score: 37.38, Average Score: 37.10\n",
      "Ep: 71, Score: 36.62, Average Score: 37.09\n",
      "Ep: 72, Score: 37.10, Average Score: 37.09\n",
      "Ep: 73, Score: 36.99, Average Score: 37.09\n",
      "Ep: 74, Score: 37.63, Average Score: 37.10\n",
      "Ep: 75, Score: 36.76, Average Score: 37.09\n",
      "Ep: 76, Score: 37.01, Average Score: 37.09\n",
      "Ep: 77, Score: 36.52, Average Score: 37.08\n",
      "Ep: 78, Score: 36.84, Average Score: 37.08\n",
      "Ep: 79, Score: 37.91, Average Score: 37.09\n",
      "Ep: 80, Score: 36.10, Average Score: 37.08\n",
      "Ep: 81, Score: 36.13, Average Score: 37.07\n",
      "Ep: 82, Score: 37.52, Average Score: 37.07\n",
      "Ep: 83, Score: 36.21, Average Score: 37.06\n",
      "Ep: 84, Score: 35.89, Average Score: 37.05\n",
      "Ep: 85, Score: 37.64, Average Score: 37.05\n",
      "Ep: 86, Score: 37.23, Average Score: 37.06\n",
      "Ep: 87, Score: 35.84, Average Score: 37.04\n",
      "Ep: 88, Score: 37.45, Average Score: 37.05\n",
      "Ep: 89, Score: 37.26, Average Score: 37.05\n",
      "Ep: 90, Score: 36.07, Average Score: 37.04\n",
      "Ep: 91, Score: 37.56, Average Score: 37.04\n",
      "Ep: 92, Score: 36.65, Average Score: 37.04\n",
      "Ep: 93, Score: 37.20, Average Score: 37.04\n",
      "Ep: 94, Score: 36.98, Average Score: 37.04\n",
      "Ep: 95, Score: 37.31, Average Score: 37.04\n",
      "Ep: 96, Score: 37.38, Average Score: 37.05\n",
      "Ep: 97, Score: 37.44, Average Score: 37.05\n",
      "Ep: 98, Score: 37.64, Average Score: 37.06\n",
      "Ep: 99, Score: 36.01, Average Score: 37.05\n",
      "Ep: 100, Score: 34.89, Average Score: 37.03\n"
     ]
    },
    {
     "data": {
      "image/png": "[encoded data removed]",
      "text/plain": [
       "<Figure size 432x288 with 1 Axes>"
      ]
     },
     "metadata": {
      "needs_background": "light"
     },
     "output_type": "display_data"
    },
    {
     "name": "stdout",
     "output_type": "stream",
     "text": [
      "Total score (averaged over agents) this episode: 37.03\n"
     ]
    }
   ],
   "source": [
    "tf.reset_default_graph()\n",
    "\n",
    "with tf.device(\"/device:GPU:0\"):\n",
    "    trained_agent = DDPGAgent(STATE_SIZE, ACTION_SIZE, 1234, HIDDEN_UNITS, LR_ACTOR, LR_CRITIC, BATCH_SIZE, GAMMA, MEMORY_SIZE, NUM_ACTORS, EPSILON, TAU, EPSILON_DECAY)\n",
    "\n",
    "saver = tf.train.Saver()\n",
    "total_scores = []\n",
    "with tf.Session(config=tf.ConfigProto(log_device_placement=True)) as sess:\n",
    "    saver.restore(sess, save_file)\n",
    "    trained_agent.set_session(sess)\n",
    "\n",
    "    for ep in range(100):\n",
    "        env_info = env.reset(train_mode=True)[brain_name]\n",
    "        state = env_info.vector_observations             \n",
    "        score = 0                                        \n",
    "        while True:\n",
    "            action = trained_agent.act(state, False)\n",
    "            env_info = env.step(action)[brain_name]      \n",
    "            state = env_info.vector_observations         \n",
    "            reward = env_info.rewards                         \n",
    "            done = env_info.local_done                        \n",
    "            score += sum(reward) / NUM_ACTORS                 \n",
    "            if np.any(done):                                  \n",
    "                break\n",
    "        total_scores.append(score)\n",
    "        print(\"Ep: {}, Score: {:.2f}\".format(ep+1, score))\n",
    "        \n",
    "fig = plt.figure()\n",
    "ax = fig.add_subplot(111)\n",
    "x = range(1, len(total_scores)+1)\n",
    "ax.plot(x, total_scores, color='blue')\n",
    "ax.plot(x, np.ones_like(x) * np.mean(total_scores), color='red')\n",
    "\n",
    "plt.ylabel('Score')\n",
    "plt.xlabel('Episode #')\n",
    "plt.ylim(0, 40)\n",
    "plt.show()   \n",
    "print('Total score (averaged over agents) this episode: {:.2f}'.format(np.mean(total_scores)))"
   ]
  },
  {
   "cell_type": "code",
   "execution_count": 7,
   "metadata": {},
   "outputs": [],
   "source": [
    "env.close()"
   ]
  }
 ],
 "metadata": {
  "kernelspec": {
   "display_name": "Udacity",
   "language": "python",
   "name": "udacity"
  },
  "language_info": {
   "codemirror_mode": {
    "name": "ipython",
    "version": 3
   },
   "file_extension": ".py",
   "mimetype": "text/x-python",
   "name": "python",
   "nbconvert_exporter": "python",
   "pygments_lexer": "ipython3",
   "version": "3.6.7"
  }
 },
 "nbformat": 4,
 "nbformat_minor": 2
}
