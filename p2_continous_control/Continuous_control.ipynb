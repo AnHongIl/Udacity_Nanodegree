{
 "cells": [
  {
   "cell_type": "markdown",
   "metadata": {},
   "source": [
    "# 0. Overview\n",
    "- Environmnt\n",
    "  - Environment yields 2 (potentially different) scores. The maximum of these 2 scores is taken.\n",
    "- Objectives\n",
    "  - The goal is to get an average score of +0.5 over 100 consecutive episodes.\n",
    "- Applied algorithms\n",
    "  - Independent DDPG  "
   ]
  },
  {
   "cell_type": "markdown",
   "metadata": {},
   "source": [
    "# 1. Setup the environment\n",
    "- Prepare unity environment with Tennis\n",
    "- Import required libraries\n",
    "- Import network"
   ]
  },
  {
   "cell_type": "code",
   "execution_count": 1,
   "metadata": {},
   "outputs": [],
   "source": [
    "from unityagents import UnityEnvironment\n",
    "import numpy as np\n",
    "import torch\n",
    "import time\n",
    "import matplotlib.pyplot as plt\n",
    "\n",
    "from src_pytorch.Agent import DDPGAgent"
   ]
  },
  {
   "cell_type": "markdown",
   "metadata": {},
   "source": [
    "# 2.  Get the default brain"
   ]
  },
  {
   "cell_type": "code",
   "execution_count": 2,
   "metadata": {
    "scrolled": true
   },
   "outputs": [
    {
     "name": "stderr",
     "output_type": "stream",
     "text": [
      "INFO:unityagents:\n",
      "'Academy' started successfully!\n",
      "Unity Academy name: Academy\n",
      "        Number of Brains: 1\n",
      "        Number of External Brains : 1\n",
      "        Lesson number : 0\n",
      "        Reset Parameters :\n",
      "\t\tgoal_speed -> 1.0\n",
      "\t\tgoal_size -> 5.0\n",
      "Unity brain name: ReacherBrain\n",
      "        Number of Visual Observations (per agent): 0\n",
      "        Vector Observation space type: continuous\n",
      "        Vector Observation space size (per agent): 33\n",
      "        Number of stacked Vector Observation: 1\n",
      "        Vector Action space type: continuous\n",
      "        Vector Action space size (per agent): 4\n",
      "        Vector Action descriptions: , , , \n"
     ]
    }
   ],
   "source": [
    "env = UnityEnvironment(file_name=\"Reacher_Windows_x86_64\\Reacher.exe\")\n",
    "brain_name = env.brain_names[0]\n",
    "brain = env.brains[brain_name]"
   ]
  },
  {
   "cell_type": "markdown",
   "metadata": {},
   "source": [
    "# 3. Set hyperparameters"
   ]
  },
  {
   "cell_type": "code",
   "execution_count": 3,
   "metadata": {},
   "outputs": [],
   "source": [
    "ACTION_SIZE = 4\n",
    "STATE_SIZE = 33\n",
    "\n",
    "TRAINING_EPISODES = 1000\n",
    "\n",
    "LR_ACTOR = 1e-4\n",
    "LR_CRITIC = 3e-4\n",
    "\n",
    "HIDDEN_UNITS = [512, 256]\n",
    "\n",
    "GAMMA = 0.99\n",
    "TAU = 1e-3\n",
    "\n",
    "EVERY = 100\n",
    "\n",
    "NUM_ACTORS = 20\n",
    "\n",
    "EPSILON = 0.3\n",
    "EPSILON_DECAY = 1e-6\n",
    "\n",
    "MEMORY_SIZE = int(1e6)\n",
    "BATCH_SIZE = 256"
   ]
  },
  {
   "cell_type": "markdown",
   "metadata": {},
   "source": [
    "# 4. Train"
   ]
  },
  {
   "cell_type": "code",
   "execution_count": 4,
   "metadata": {
    "scrolled": true
   },
   "outputs": [
    {
     "name": "stderr",
     "output_type": "stream",
     "text": [
      "C:\\Users\\Lab\\Anaconda3\\envs\\drlnd\\lib\\site-packages\\torch\\nn\\functional.py:995: UserWarning: nn.functional.tanh is deprecated. Use torch.tanh instead.\n",
      "  warnings.warn(\"nn.functional.tanh is deprecated. Use torch.tanh instead.\")\n"
     ]
    },
    {
     "name": "stdout",
     "output_type": "stream",
     "text": [
      "Ep: 10\tAverage Score: 0.22\tMax Score: 0.44\n",
      "Ep: 20\tAverage Score: 0.33\tMax Score: 0.69\n",
      "Ep: 30\tAverage Score: 0.75\tMax Score: 2.43\n",
      "Ep: 40\tAverage Score: 1.45\tMax Score: 4.69\n",
      "Ep: 50\tAverage Score: 2.34\tMax Score: 7.08\n",
      "Ep: 60\tAverage Score: 3.96\tMax Score: 14.49\n",
      "Ep: 70\tAverage Score: 5.85\tMax Score: 20.96\n",
      "Ep: 80\tAverage Score: 7.98\tMax Score: 26.38\n",
      "Ep: 90\tAverage Score: 10.54\tMax Score: 36.53\n",
      "Ep: 100\tAverage Score: 13.17\tMax Score: 37.82\n",
      "Ep: 110\tAverage Score: 15.43\tMax Score: 38.68\n",
      "Ep: 120\tAverage Score: 17.36\tMax Score: 39.03\n",
      "Ep: 130\tAverage Score: 18.93\tMax Score: 39.03\n",
      "Ep: 140\tAverage Score: 20.24\tMax Score: 39.03\n",
      "Environment solved in 149 epsidoes!\tAverage Score: 30.23\n"
     ]
    },
    {
     "data": {
      "image/png": "[encoded data removed]",
      "text/plain": [
       "<Figure size 432x288 with 1 Axes>"
      ]
     },
     "metadata": {
      "needs_background": "light"
     },
     "output_type": "display_data"
    }
   ],
   "source": [
    "agent = DDPGAgent(STATE_SIZE, ACTION_SIZE, 1234, HIDDEN_UNITS, LR_ACTOR, LR_CRITIC, BATCH_SIZE, GAMMA, MEMORY_SIZE, NUM_ACTORS, EPSILON, TAU)\n",
    "actor_path = 'model/p2_ddpg_actor.pth'\n",
    "critic_path = 'model/p2_ddpg_critic.pth'\n",
    "\n",
    "total_scores = []\n",
    "for ep in range(1, TRAINING_EPISODES+1):\n",
    "    env_info = env.reset(train_mode=True)[brain_name]\n",
    "    state = env_info.vector_observations\n",
    "    score = 0\n",
    "\n",
    "    agent.reset()\n",
    "\n",
    "    while True:\n",
    "        action = agent.act(state, True)\n",
    "        \n",
    "        env_info = env.step(action)[brain_name]\n",
    "        reward = env_info.rewards\n",
    "        next_state = env_info.vector_observations\n",
    "        done = env_info.local_done\n",
    "\n",
    "        agent.step(state, action, reward, next_state, done)\n",
    "        state = next_state\n",
    "        score += sum(reward) / NUM_ACTORS\n",
    "\n",
    "        if np.any(done):\n",
    "            break\n",
    "\n",
    "    total_scores.append(score)\n",
    "    if ep > 0 and ep % 10 == 0:\n",
    "        print(\"Ep: {}\\tAverage Score: {:.2f}\\tMax Score: {:.2f}\".format(ep, np.mean(total_scores), np.max(total_scores)))\n",
    "\n",
    "    if np.mean(total_scores[-100:]) > 30.0:\n",
    "        print(\"Environment solved in {} epsidoes!\\tAverage Score: {:.2f}\".format(ep+1, np.mean(total_scores[-100:])))\n",
    "        torch.save(agent.actor_local.state_dict(), actor_path)\n",
    "        torch.save(agent.critic_local.state_dict(), critic_path)\n",
    "        break           \n",
    "\n",
    "fig = plt.figure()\n",
    "fig.add_subplot(111)\n",
    "plt.plot(np.arange(1, len(total_scores)+1), total_scores)\n",
    "plt.ylim(0, 45)\n",
    "plt.ylabel('Score')\n",
    "plt.xlabel('Episode #')\n",
    "plt.show()   "
   ]
  },
  {
   "cell_type": "markdown",
   "metadata": {},
   "source": [
    "# 5. Validation"
   ]
  },
  {
   "cell_type": "code",
   "execution_count": 9,
   "metadata": {},
   "outputs": [
    {
     "name": "stdout",
     "output_type": "stream",
     "text": [
      "1 epsidoe score: 37.24, Average score: 37.24\n",
      "2 epsidoe score: 35.49, Average score: 36.36\n",
      "3 epsidoe score: 35.45, Average score: 36.06\n",
      "4 epsidoe score: 36.48, Average score: 36.17\n",
      "5 epsidoe score: 38.01, Average score: 36.53\n",
      "6 epsidoe score: 35.34, Average score: 36.34\n",
      "7 epsidoe score: 36.03, Average score: 36.29\n",
      "8 epsidoe score: 35.81, Average score: 36.23\n",
      "9 epsidoe score: 34.97, Average score: 36.09\n",
      "10 epsidoe score: 36.22, Average score: 36.10\n",
      "11 epsidoe score: 37.16, Average score: 36.20\n",
      "12 epsidoe score: 36.97, Average score: 36.26\n",
      "13 epsidoe score: 37.34, Average score: 36.35\n",
      "14 epsidoe score: 36.25, Average score: 36.34\n",
      "15 epsidoe score: 33.48, Average score: 36.15\n",
      "16 epsidoe score: 36.55, Average score: 36.17\n",
      "17 epsidoe score: 35.38, Average score: 36.13\n",
      "18 epsidoe score: 36.55, Average score: 36.15\n",
      "19 epsidoe score: 35.79, Average score: 36.13\n",
      "20 epsidoe score: 36.16, Average score: 36.13\n",
      "21 epsidoe score: 36.77, Average score: 36.16\n",
      "22 epsidoe score: 35.28, Average score: 36.12\n",
      "23 epsidoe score: 35.41, Average score: 36.09\n",
      "24 epsidoe score: 35.06, Average score: 36.05\n",
      "25 epsidoe score: 34.47, Average score: 35.99\n",
      "26 epsidoe score: 36.72, Average score: 36.01\n",
      "27 epsidoe score: 35.80, Average score: 36.01\n",
      "28 epsidoe score: 35.84, Average score: 36.00\n",
      "29 epsidoe score: 35.61, Average score: 35.99\n",
      "30 epsidoe score: 32.81, Average score: 35.88\n",
      "31 epsidoe score: 36.91, Average score: 35.91\n",
      "32 epsidoe score: 36.27, Average score: 35.92\n",
      "33 epsidoe score: 36.12, Average score: 35.93\n",
      "34 epsidoe score: 36.59, Average score: 35.95\n",
      "35 epsidoe score: 36.09, Average score: 35.95\n",
      "36 epsidoe score: 36.38, Average score: 35.97\n",
      "37 epsidoe score: 32.87, Average score: 35.88\n",
      "38 epsidoe score: 37.01, Average score: 35.91\n",
      "39 epsidoe score: 36.86, Average score: 35.94\n",
      "40 epsidoe score: 36.72, Average score: 35.96\n",
      "41 epsidoe score: 35.83, Average score: 35.95\n",
      "42 epsidoe score: 36.62, Average score: 35.97\n",
      "43 epsidoe score: 35.99, Average score: 35.97\n",
      "44 epsidoe score: 35.39, Average score: 35.96\n",
      "45 epsidoe score: 35.95, Average score: 35.96\n",
      "46 epsidoe score: 35.58, Average score: 35.95\n",
      "47 epsidoe score: 36.15, Average score: 35.95\n",
      "48 epsidoe score: 37.18, Average score: 35.98\n",
      "49 epsidoe score: 35.98, Average score: 35.98\n",
      "50 epsidoe score: 35.38, Average score: 35.97\n",
      "51 epsidoe score: 36.71, Average score: 35.98\n",
      "52 epsidoe score: 36.04, Average score: 35.98\n",
      "53 epsidoe score: 35.11, Average score: 35.97\n",
      "54 epsidoe score: 35.47, Average score: 35.96\n",
      "55 epsidoe score: 36.99, Average score: 35.98\n",
      "56 epsidoe score: 35.84, Average score: 35.97\n",
      "57 epsidoe score: 34.90, Average score: 35.95\n",
      "58 epsidoe score: 37.13, Average score: 35.97\n",
      "59 epsidoe score: 35.65, Average score: 35.97\n",
      "60 epsidoe score: 35.48, Average score: 35.96\n",
      "61 epsidoe score: 34.93, Average score: 35.94\n",
      "62 epsidoe score: 35.76, Average score: 35.94\n",
      "63 epsidoe score: 36.29, Average score: 35.95\n",
      "64 epsidoe score: 35.76, Average score: 35.94\n",
      "65 epsidoe score: 33.16, Average score: 35.90\n",
      "66 epsidoe score: 36.20, Average score: 35.90\n",
      "67 epsidoe score: 36.13, Average score: 35.91\n",
      "68 epsidoe score: 35.16, Average score: 35.90\n",
      "69 epsidoe score: 35.80, Average score: 35.90\n",
      "70 epsidoe score: 36.43, Average score: 35.90\n",
      "71 epsidoe score: 37.03, Average score: 35.92\n",
      "72 epsidoe score: 35.61, Average score: 35.92\n",
      "73 epsidoe score: 35.17, Average score: 35.90\n",
      "74 epsidoe score: 35.76, Average score: 35.90\n",
      "75 epsidoe score: 36.59, Average score: 35.91\n",
      "76 epsidoe score: 37.49, Average score: 35.93\n",
      "77 epsidoe score: 34.87, Average score: 35.92\n",
      "78 epsidoe score: 36.50, Average score: 35.93\n",
      "79 epsidoe score: 36.55, Average score: 35.93\n",
      "80 epsidoe score: 36.92, Average score: 35.95\n",
      "81 epsidoe score: 35.50, Average score: 35.94\n",
      "82 epsidoe score: 34.67, Average score: 35.93\n",
      "83 epsidoe score: 35.68, Average score: 35.92\n",
      "84 epsidoe score: 36.40, Average score: 35.93\n",
      "85 epsidoe score: 36.77, Average score: 35.94\n",
      "86 epsidoe score: 35.54, Average score: 35.93\n",
      "87 epsidoe score: 36.99, Average score: 35.95\n",
      "88 epsidoe score: 36.19, Average score: 35.95\n",
      "89 epsidoe score: 35.50, Average score: 35.94\n",
      "90 epsidoe score: 36.65, Average score: 35.95\n",
      "91 epsidoe score: 36.92, Average score: 35.96\n",
      "92 epsidoe score: 36.63, Average score: 35.97\n",
      "93 epsidoe score: 36.82, Average score: 35.98\n",
      "94 epsidoe score: 36.02, Average score: 35.98\n",
      "95 epsidoe score: 36.24, Average score: 35.98\n",
      "96 epsidoe score: 36.45, Average score: 35.99\n",
      "97 epsidoe score: 35.29, Average score: 35.98\n",
      "98 epsidoe score: 36.94, Average score: 35.99\n",
      "99 epsidoe score: 37.00, Average score: 36.00\n",
      "100 epsidoe score: 36.14, Average score: 36.00\n"
     ]
    },
    {
     "data": {
      "image/png": "[encoded data removed]",
      "text/plain": [
       "<Figure size 432x288 with 1 Axes>"
      ]
     },
     "metadata": {
      "needs_background": "light"
     },
     "output_type": "display_data"
    },
    {
     "name": "stdout",
     "output_type": "stream",
     "text": [
      "Total score (averaged over agents) this episode: 36.00\n"
     ]
    }
   ],
   "source": [
    "trained_agent = DDPGAgent(STATE_SIZE, ACTION_SIZE, 1234, HIDDEN_UNITS, LR_ACTOR, LR_CRITIC, BATCH_SIZE, GAMMA, MEMORY_SIZE, NUM_ACTORS, EPSILON, TAU)\n",
    "trained_agent.actor_local.load_state_dict(torch.load(actor_path))\n",
    "trained_agent.critic_local.load_state_dict(torch.load(critic_path))\n",
    "total_scores = []\n",
    "\n",
    "for ep in range(1, 101):\n",
    "    env_info = env.reset(train_mode=True)[brain_name]\n",
    "    state = env_info.vector_observations             \n",
    "    score = 0                                        \n",
    "    while True:\n",
    "        action = trained_agent.act(state, False)\n",
    "        env_info = env.step(action)[brain_name]      \n",
    "        state = env_info.vector_observations         \n",
    "        reward = env_info.rewards                         \n",
    "        done = env_info.local_done                        \n",
    "        score += sum(reward) / NUM_ACTORS                 \n",
    "        if np.any(done):                                  \n",
    "            break\n",
    "    total_scores.append(score)\n",
    "    print(\"{} epsidoe score: {:.2f}, Average score: {:.2f}\".format(ep, score, np.mean(total_scores)))\n",
    "\n",
    "fig = plt.figure()\n",
    "ax = fig.add_subplot(111)\n",
    "x = range(1, len(total_scores)+1)\n",
    "ax.plot(x, total_scores, color='blue')\n",
    "ax.plot(x, np.ones_like(x) * np.mean(total_scores), color='red')\n",
    "\n",
    "plt.ylabel('Score')\n",
    "plt.xlabel('Episode #')\n",
    "plt.ylim(0, 40)\n",
    "plt.show()   \n",
    "print('Total score (averaged over agents) this episode: {:.2f}'.format(np.mean(total_scores)))"
   ]
  },
  {
   "cell_type": "code",
   "execution_count": 10,
   "metadata": {},
   "outputs": [],
   "source": [
    "env.close()"
   ]
  }
 ],
 "metadata": {
  "kernelspec": {
   "display_name": "drlnd",
   "language": "python",
   "name": "drlnd"
  },
  "language_info": {
   "codemirror_mode": {
    "name": "ipython",
    "version": 3
   },
   "file_extension": ".py",
   "mimetype": "text/x-python",
   "name": "python",
   "nbconvert_exporter": "python",
   "pygments_lexer": "ipython3",
   "version": "3.6.7"
  }
 },
 "nbformat": 4,
 "nbformat_minor": 2
}
