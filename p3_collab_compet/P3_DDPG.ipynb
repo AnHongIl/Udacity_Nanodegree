{
 "cells": [
  {
   "cell_type": "markdown",
   "metadata": {},
   "source": [
    "# 0. Overview\n",
    "- Environmnt\n",
    "  - Environment yields 2 (potentially different) scores. The maximum of these 2 scores is taken.\n",
    "- Objectives\n",
    "  - The goal is to get an average score of +0.5 over 100 consecutive episodes.\n",
    "- Applied algorithms\n",
    "  - Independent two DDPG agents  "
   ]
  },
  {
   "cell_type": "markdown",
   "metadata": {},
   "source": [
    "# 1. Setup the environment\n",
    "- Prepare unity environment with Tennis\n",
    "- Import required libraries\n",
    "- Import network"
   ]
  },
  {
   "cell_type": "code",
   "execution_count": 1,
   "metadata": {},
   "outputs": [],
   "source": [
    "from unityagents import UnityEnvironment\n",
    "import numpy as np\n",
    "import tensorflow as tf\n",
    "import matplotlib.pyplot as plt\n",
    "\n",
    "from src.Agent import DDPGAgents"
   ]
  },
  {
   "cell_type": "markdown",
   "metadata": {},
   "source": [
    "# 2.  Get the default brain"
   ]
  },
  {
   "cell_type": "code",
   "execution_count": 2,
   "metadata": {
    "scrolled": true
   },
   "outputs": [
    {
     "name": "stderr",
     "output_type": "stream",
     "text": [
      "INFO:unityagents:\n",
      "'Academy' started successfully!\n",
      "Unity Academy name: Academy\n",
      "        Number of Brains: 1\n",
      "        Number of External Brains : 1\n",
      "        Lesson number : 0\n",
      "        Reset Parameters :\n",
      "\t\t\n",
      "Unity brain name: TennisBrain\n",
      "        Number of Visual Observations (per agent): 0\n",
      "        Vector Observation space type: continuous\n",
      "        Vector Observation space size (per agent): 8\n",
      "        Number of stacked Vector Observation: 3\n",
      "        Vector Action space type: continuous\n",
      "        Vector Action space size (per agent): 2\n",
      "        Vector Action descriptions: , \n"
     ]
    }
   ],
   "source": [
    "env = UnityEnvironment(file_name=\"Tennis_Windows_x86_64\\Tennis.exe\")\n",
    "brain_name = env.brain_names[0]\n",
    "brain = env.brains[brain_name]"
   ]
  },
  {
   "cell_type": "markdown",
   "metadata": {},
   "source": [
    "# 3. Set hyperparameters"
   ]
  },
  {
   "cell_type": "code",
   "execution_count": 3,
   "metadata": {},
   "outputs": [],
   "source": [
    "ACTION_SIZE = 2\n",
    "STATE_SIZE = 24\n",
    "\n",
    "TRAINING_EPISODES = 3000\n",
    "\n",
    "LR_ACTOR = 1e-3\n",
    "LR_CRITIC = 1e-3\n",
    "\n",
    "HIDDEN_UNITS = [64, 64]\n",
    "\n",
    "GAMMA = 0.99\n",
    "TAU = 6e-2\n",
    "\n",
    "EVERY = 100\n",
    "\n",
    "NUM_AGENTS = 2\n",
    "\n",
    "EPSILON = 0.3\n",
    "EPSILON_DECAY = 1e-6\n",
    "\n",
    "MEMORY_SIZE = int(1e6)\n",
    "BATCH_SIZE = 128"
   ]
  },
  {
   "cell_type": "markdown",
   "metadata": {},
   "source": [
    "# 4. Train"
   ]
  },
  {
   "cell_type": "code",
   "execution_count": 4,
   "metadata": {
    "scrolled": true
   },
   "outputs": [
    {
     "name": "stdout",
     "output_type": "stream",
     "text": [
      "Ep: 100\tMax Score: 0.10\tAverage Score in 100 episodes: 0.008\n",
      "Ep: 200\tMax Score: 0.19\tAverage Score in 100 episodes: 0.024\n",
      "Ep: 300\tMax Score: 0.19\tAverage Score in 100 episodes: 0.037\n",
      "Ep: 400\tMax Score: 0.20\tAverage Score in 100 episodes: 0.046\n",
      "Ep: 500\tMax Score: 0.20\tAverage Score in 100 episodes: 0.052\n",
      "Ep: 600\tMax Score: 0.30\tAverage Score in 100 episodes: 0.095\n",
      "Ep: 700\tMax Score: 0.40\tAverage Score in 100 episodes: 0.111\n",
      "Ep: 800\tMax Score: 0.40\tAverage Score in 100 episodes: 0.139\n",
      "Ep: 900\tMax Score: 2.70\tAverage Score in 100 episodes: 0.378\n",
      "Environment solved in 923 epsidoes!\tAverage Score: 0.50\n"
     ]
    },
    {
     "data": {
      "image/png": "[encoded data removed]",
      "text/plain": [
       "<Figure size 432x288 with 1 Axes>"
      ]
     },
     "metadata": {
      "needs_background": "light"
     },
     "output_type": "display_data"
    }
   ],
   "source": [
    "tf.reset_default_graph()\n",
    "\n",
    "with tf.device(\"/device:GPU:0\"):    \n",
    "    agents = DDPGAgents(STATE_SIZE, ACTION_SIZE, 1234, MEMORY_SIZE, HIDDEN_UNITS, LR_ACTOR, LR_CRITIC, BATCH_SIZE, GAMMA, NUM_AGENTS, EPSILON, TAU, EPSILON_DECAY)\n",
    "save_file = 'model/p3_independent_ddpg.ckpt'\n",
    "saver = tf.train.Saver()\n",
    "total_scores = []\n",
    "step = 0\n",
    "\n",
    "with tf.Session(config=tf.ConfigProto()) as sess:\n",
    "    sess.run(tf.global_variables_initializer())\n",
    "\n",
    "    agents.set_session(sess)\n",
    "    agents.hard_update()\n",
    "\n",
    "    for ep in range(TRAINING_EPISODES):\n",
    "        agents.reset()\n",
    "        \n",
    "        env_info = env.reset(train_mode=True)[brain_name]\n",
    "        state = env_info.vector_observations\n",
    "        scores = np.zeros(NUM_AGENTS)\n",
    "\n",
    "        while True:\n",
    "            action = agents.act(state, True)\n",
    "            \n",
    "            env_info = env.step(action)[brain_name]\n",
    "            reward = env_info.rewards\n",
    "            next_state = env_info.vector_observations\n",
    "            done = env_info.local_done\n",
    "            \n",
    "            agents.step(state, action, reward, next_state, done)\n",
    "            state = next_state\n",
    "            scores += list(map(lambda i: reward[i], range(NUM_AGENTS)))\n",
    "                        \n",
    "            if np.any(done):\n",
    "                break\n",
    "        \n",
    "        total_scores.append(max(scores))\n",
    "        if ep > 0 and ep % EVERY == 0:\n",
    "            print(\"Ep: {}\\tMax Score: {:.2f}\\tAverage Score in 100 episodes: {:.3f}\"\n",
    "                  .format(ep, np.max(total_scores), np.mean(total_scores[-100:])))\n",
    "\n",
    "        if np.mean(total_scores[-100:]) > 0.5:\n",
    "            print(\"Environment solved in {} epsidoes!\\tAverage Score: {:.2f}\".format(ep+1, np.mean(total_scores[-100:])))\n",
    "            saver.save(sess, save_file)            \n",
    "            break\n",
    "            \n",
    "fig = plt.figure()\n",
    "ax = fig.add_subplot(111)\n",
    "ax.set_ylim([0, 5])\n",
    "plt.plot(np.arange(1, len(total_scores)+1), total_scores)\n",
    "plt.ylabel('Score')\n",
    "plt.xlabel('Episode #')\n",
    "plt.show()   "
   ]
  },
  {
   "cell_type": "markdown",
   "metadata": {},
   "source": [
    "# 5. Validation"
   ]
  },
  {
   "cell_type": "code",
   "execution_count": 7,
   "metadata": {},
   "outputs": [
    {
     "name": "stderr",
     "output_type": "stream",
     "text": [
      "INFO:tensorflow:Restoring parameters from model/p3_independent_ddpg.ckpt\n"
     ]
    },
    {
     "name": "stdout",
     "output_type": "stream",
     "text": [
      "Ep: 1, Score: 0.10, Average Score: 0.10\n",
      "Ep: 2, Score: 2.60, Average Score: 1.35\n",
      "Ep: 3, Score: 2.70, Average Score: 1.80\n",
      "Ep: 4, Score: 0.10, Average Score: 1.38\n",
      "Ep: 5, Score: 2.60, Average Score: 1.62\n",
      "Ep: 6, Score: 2.70, Average Score: 1.80\n",
      "Ep: 7, Score: 2.70, Average Score: 1.93\n",
      "Ep: 8, Score: 2.60, Average Score: 2.01\n",
      "Ep: 9, Score: 2.70, Average Score: 2.09\n",
      "Ep: 10, Score: 2.70, Average Score: 2.15\n",
      "Ep: 11, Score: 2.60, Average Score: 2.19\n",
      "Ep: 12, Score: 2.70, Average Score: 2.23\n",
      "Ep: 13, Score: 2.70, Average Score: 2.27\n",
      "Ep: 14, Score: 1.80, Average Score: 2.24\n",
      "Ep: 15, Score: 2.60, Average Score: 2.26\n",
      "Ep: 16, Score: 2.70, Average Score: 2.29\n",
      "Ep: 17, Score: 0.70, Average Score: 2.19\n",
      "Ep: 18, Score: 0.20, Average Score: 2.08\n",
      "Ep: 19, Score: 0.10, Average Score: 1.98\n",
      "Ep: 20, Score: 2.60, Average Score: 2.01\n",
      "Ep: 21, Score: 0.10, Average Score: 1.92\n",
      "Ep: 22, Score: 2.60, Average Score: 1.95\n",
      "Ep: 23, Score: 0.10, Average Score: 1.87\n",
      "Ep: 24, Score: 2.60, Average Score: 1.90\n",
      "Ep: 25, Score: 2.70, Average Score: 1.93\n",
      "Ep: 26, Score: 0.00, Average Score: 1.86\n",
      "Ep: 27, Score: 2.60, Average Score: 1.89\n",
      "Ep: 28, Score: 2.70, Average Score: 1.91\n",
      "Ep: 29, Score: 2.70, Average Score: 1.94\n",
      "Ep: 30, Score: 2.60, Average Score: 1.96\n",
      "Ep: 31, Score: 2.70, Average Score: 1.99\n",
      "Ep: 32, Score: 0.10, Average Score: 1.93\n",
      "Ep: 33, Score: 0.19, Average Score: 1.88\n",
      "Ep: 34, Score: 0.10, Average Score: 1.82\n",
      "Ep: 35, Score: 2.60, Average Score: 1.85\n",
      "Ep: 36, Score: 2.70, Average Score: 1.87\n",
      "Ep: 37, Score: 0.10, Average Score: 1.82\n",
      "Ep: 38, Score: 2.60, Average Score: 1.84\n",
      "Ep: 39, Score: 2.70, Average Score: 1.86\n",
      "Ep: 40, Score: 2.70, Average Score: 1.88\n",
      "Ep: 41, Score: 2.60, Average Score: 1.90\n",
      "Ep: 42, Score: 2.70, Average Score: 1.92\n",
      "Ep: 43, Score: 2.70, Average Score: 1.94\n",
      "Ep: 44, Score: 2.60, Average Score: 1.95\n",
      "Ep: 45, Score: 2.60, Average Score: 1.97\n",
      "Ep: 46, Score: 2.70, Average Score: 1.98\n",
      "Ep: 47, Score: 0.10, Average Score: 1.94\n",
      "Ep: 48, Score: 2.60, Average Score: 1.96\n",
      "Ep: 49, Score: 2.70, Average Score: 1.97\n",
      "Ep: 50, Score: 0.10, Average Score: 1.94\n",
      "Ep: 51, Score: 0.10, Average Score: 1.90\n",
      "Ep: 52, Score: 2.60, Average Score: 1.91\n",
      "Ep: 53, Score: 0.10, Average Score: 1.88\n",
      "Ep: 54, Score: 2.60, Average Score: 1.89\n",
      "Ep: 55, Score: 2.70, Average Score: 1.91\n",
      "Ep: 56, Score: 2.70, Average Score: 1.92\n",
      "Ep: 57, Score: 2.60, Average Score: 1.93\n",
      "Ep: 58, Score: 2.70, Average Score: 1.95\n",
      "Ep: 59, Score: 0.00, Average Score: 1.91\n",
      "Ep: 60, Score: 2.60, Average Score: 1.92\n",
      "Ep: 61, Score: 2.70, Average Score: 1.94\n",
      "Ep: 62, Score: 2.60, Average Score: 1.95\n",
      "Ep: 63, Score: 2.60, Average Score: 1.96\n",
      "Ep: 64, Score: 2.70, Average Score: 1.97\n",
      "Ep: 65, Score: 0.10, Average Score: 1.94\n",
      "Ep: 66, Score: 0.10, Average Score: 1.91\n",
      "Ep: 67, Score: 0.10, Average Score: 1.89\n",
      "Ep: 68, Score: 0.80, Average Score: 1.87\n",
      "Ep: 69, Score: 2.60, Average Score: 1.88\n",
      "Ep: 70, Score: 0.20, Average Score: 1.86\n",
      "Ep: 71, Score: 0.10, Average Score: 1.83\n",
      "Ep: 72, Score: 2.60, Average Score: 1.84\n",
      "Ep: 73, Score: 0.10, Average Score: 1.82\n",
      "Ep: 74, Score: 2.60, Average Score: 1.83\n",
      "Ep: 75, Score: 2.70, Average Score: 1.84\n",
      "Ep: 76, Score: 2.70, Average Score: 1.85\n",
      "Ep: 77, Score: 2.60, Average Score: 1.86\n",
      "Ep: 78, Score: 2.70, Average Score: 1.87\n",
      "Ep: 79, Score: 0.10, Average Score: 1.85\n",
      "Ep: 80, Score: 0.10, Average Score: 1.83\n",
      "Ep: 81, Score: 2.60, Average Score: 1.84\n",
      "Ep: 82, Score: 0.10, Average Score: 1.82\n",
      "Ep: 83, Score: 2.60, Average Score: 1.83\n",
      "Ep: 84, Score: 0.10, Average Score: 1.81\n",
      "Ep: 85, Score: 2.60, Average Score: 1.82\n",
      "Ep: 86, Score: 2.70, Average Score: 1.83\n",
      "Ep: 87, Score: 2.70, Average Score: 1.84\n",
      "Ep: 88, Score: 2.70, Average Score: 1.85\n",
      "Ep: 89, Score: 2.60, Average Score: 1.85\n",
      "Ep: 90, Score: 2.70, Average Score: 1.86\n",
      "Ep: 91, Score: 0.10, Average Score: 1.84\n",
      "Ep: 92, Score: 0.10, Average Score: 1.82\n",
      "Ep: 93, Score: 2.60, Average Score: 1.83\n",
      "Ep: 94, Score: 2.70, Average Score: 1.84\n",
      "Ep: 95, Score: 0.10, Average Score: 1.82\n",
      "Ep: 96, Score: 2.60, Average Score: 1.83\n",
      "Ep: 97, Score: 2.70, Average Score: 1.84\n",
      "Ep: 98, Score: 0.10, Average Score: 1.82\n",
      "Ep: 99, Score: 0.10, Average Score: 1.81\n",
      "Ep: 100, Score: 2.60, Average Score: 1.81\n"
     ]
    },
    {
     "data": {
      "image/png": "[encoded data removed]",
      "text/plain": [
       "<Figure size 432x288 with 1 Axes>"
      ]
     },
     "metadata": {
      "needs_background": "light"
     },
     "output_type": "display_data"
    },
    {
     "name": "stdout",
     "output_type": "stream",
     "text": [
      "Average Score: 1.81\n"
     ]
    }
   ],
   "source": [
    "tf.reset_default_graph()\n",
    "\n",
    "with tf.device(\"/device:GPU:0\"):\n",
    "    trained_agents = DDPGAgents(STATE_SIZE, ACTION_SIZE, 1234, MEMORY_SIZE, HIDDEN_UNITS, LR_ACTOR, LR_CRITIC, BATCH_SIZE, GAMMA, NUM_AGENTS, EPSILON, TAU, EPSILON_DECAY)\n",
    "\n",
    "save_file = 'model/p3_independent_ddpg.ckpt'\n",
    "saver = tf.train.Saver()\n",
    "total_scores = []\n",
    "with tf.Session(config=tf.ConfigProto(log_device_placement=True)) as sess:\n",
    "    saver.restore(sess, save_file)\n",
    "    trained_agents.set_session(sess)\n",
    "\n",
    "    for ep in range(100):\n",
    "        env_info = env.reset(train_mode=True)[brain_name]     \n",
    "        state = env_info.vector_observations                  \n",
    "        scores = np.zeros(NUM_AGENTS)                                          \n",
    "        while True:\n",
    "            action = trained_agents.act(state, False)\n",
    "            env_info = env.step(action)[brain_name]           \n",
    "            state = env_info.vector_observations         \n",
    "            reward = env_info.rewards                         \n",
    "            done = env_info.local_done                        \n",
    "            scores += list(map(lambda i: reward[i], range(NUM_AGENTS)))\n",
    "            if np.any(done):                                  \n",
    "                break\n",
    "        total_scores.append(max(scores))\n",
    "        print(\"Ep: {}, Score: {:.2f}, Average Score: {:.2f}\".format(ep+1, max(scores), np.mean(total_scores)))\n",
    "\n",
    "fig = plt.figure()\n",
    "ax = fig.add_subplot(111)\n",
    "ax.set_ylim([0, 5])\n",
    "x = range(1, len(total_scores)+1)\n",
    "ax.plot(x, total_scores, color='blue')\n",
    "ax.plot(x, np.ones_like(x) * np.mean(total_scores), color='red')\n",
    "\n",
    "plt.ylabel('Score')\n",
    "plt.xlabel('Episode #')\n",
    "plt.show()   \n",
    "print('Average Score: {:.2f}'.format(np.mean(total_scores)))"
   ]
  },
  {
   "cell_type": "code",
   "execution_count": 8,
   "metadata": {},
   "outputs": [],
   "source": [
    "env.close()"
   ]
  }
 ],
 "metadata": {
  "kernelspec": {
   "display_name": "Udacity",
   "language": "python",
   "name": "udacity"
  },
  "language_info": {
   "codemirror_mode": {
    "name": "ipython",
    "version": 3
   },
   "file_extension": ".py",
   "mimetype": "text/x-python",
   "name": "python",
   "nbconvert_exporter": "python",
   "pygments_lexer": "ipython3",
   "version": "3.6.7"
  }
 },
 "nbformat": 4,
 "nbformat_minor": 2
}
