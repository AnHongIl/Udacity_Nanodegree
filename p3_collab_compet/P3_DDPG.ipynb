{
 "cells": [
  {
   "cell_type": "markdown",
   "metadata": {},
   "source": [
    "# 0. Overview\n",
    "- Environmnt\n",
    "  - Environment yields 2 (potentially different) scores. The maximum of these 2 scores is taken.\n",
    "- Objectives\n",
    "  - The goal is to get an average score of +0.5 over 100 consecutive episodes.\n",
    "- Applied algorithms\n",
    "  - Independent two DDPG agents  "
   ]
  },
  {
   "cell_type": "markdown",
   "metadata": {},
   "source": [
    "# 1. Setup the environment\n",
    "- Prepare unity environment with Tennis\n",
    "- Import required libraries\n",
    "- Import network"
   ]
  },
  {
   "cell_type": "code",
   "execution_count": 1,
   "metadata": {},
   "outputs": [],
   "source": [
    "from unityagents import UnityEnvironment\n",
    "import numpy as np\n",
    "import torch\n",
    "import matplotlib.pyplot as plt\n",
    "\n",
    "from src_pytorch.Agent import DDPGAgent"
   ]
  },
  {
   "cell_type": "markdown",
   "metadata": {},
   "source": [
    "# 2.  Get the default brain"
   ]
  },
  {
   "cell_type": "code",
   "execution_count": 2,
   "metadata": {
    "scrolled": true
   },
   "outputs": [
    {
     "name": "stderr",
     "output_type": "stream",
     "text": [
      "INFO:unityagents:\n",
      "'Academy' started successfully!\n",
      "Unity Academy name: Academy\n",
      "        Number of Brains: 1\n",
      "        Number of External Brains : 1\n",
      "        Lesson number : 0\n",
      "        Reset Parameters :\n",
      "\t\t\n",
      "Unity brain name: TennisBrain\n",
      "        Number of Visual Observations (per agent): 0\n",
      "        Vector Observation space type: continuous\n",
      "        Vector Observation space size (per agent): 8\n",
      "        Number of stacked Vector Observation: 3\n",
      "        Vector Action space type: continuous\n",
      "        Vector Action space size (per agent): 2\n",
      "        Vector Action descriptions: , \n"
     ]
    }
   ],
   "source": [
    "env = UnityEnvironment(file_name=\"Tennis_Windows_x86_64\\Tennis.exe\")\n",
    "brain_name = env.brain_names[0]\n",
    "brain = env.brains[brain_name]"
   ]
  },
  {
   "cell_type": "markdown",
   "metadata": {},
   "source": [
    "# 3. Set hyperparameters"
   ]
  },
  {
   "cell_type": "code",
   "execution_count": 3,
   "metadata": {},
   "outputs": [],
   "source": [
    "ACTION_SIZE = 2\n",
    "STATE_SIZE = 24\n",
    "\n",
    "TRAINING_EPISODES = 3000\n",
    "\n",
    "LR_ACTOR = 1e-3\n",
    "LR_CRITIC = 1e-3\n",
    "\n",
    "HIDDEN_UNITS = [64, 64]\n",
    "\n",
    "GAMMA = 0.99\n",
    "TAU = 6e-2\n",
    "\n",
    "EVERY = 100\n",
    "\n",
    "NUM_AGENTS = 2\n",
    "\n",
    "EPSILON = 0.3\n",
    "EPSILON_DECAY = 1e-6\n",
    "\n",
    "MEMORY_SIZE = int(1e6)\n",
    "BATCH_SIZE = 128"
   ]
  },
  {
   "cell_type": "markdown",
   "metadata": {},
   "source": [
    "# 4. Train"
   ]
  },
  {
   "cell_type": "code",
   "execution_count": 4,
   "metadata": {
    "scrolled": true
   },
   "outputs": [
    {
     "name": "stderr",
     "output_type": "stream",
     "text": [
      "C:\\Users\\Lab\\Anaconda3\\envs\\Udacity\\lib\\site-packages\\torch\\nn\\functional.py:995: UserWarning: nn.functional.tanh is deprecated. Use torch.tanh instead.\n",
      "  warnings.warn(\"nn.functional.tanh is deprecated. Use torch.tanh instead.\")\n"
     ]
    },
    {
     "name": "stdout",
     "output_type": "stream",
     "text": [
      "Ep: 100\tIn 100 epsidoes, Average Score: 0.03\tMax Score: 0.20\n",
      "Ep: 200\tIn 100 epsidoes, Average Score: 0.04\tMax Score: 0.20\n",
      "Ep: 300\tIn 100 epsidoes, Average Score: 0.04\tMax Score: 0.29\n",
      "Ep: 400\tIn 100 epsidoes, Average Score: 0.05\tMax Score: 0.30\n",
      "Ep: 500\tIn 100 epsidoes, Average Score: 0.05\tMax Score: 0.40\n",
      "Ep: 600\tIn 100 epsidoes, Average Score: 0.05\tMax Score: 0.30\n",
      "Ep: 700\tIn 100 epsidoes, Average Score: 0.07\tMax Score: 0.30\n",
      "Ep: 800\tIn 100 epsidoes, Average Score: 0.09\tMax Score: 0.30\n",
      "Ep: 900\tIn 100 epsidoes, Average Score: 0.09\tMax Score: 0.30\n",
      "Ep: 1000\tIn 100 epsidoes, Average Score: 0.10\tMax Score: 0.30\n",
      "Ep: 1100\tIn 100 epsidoes, Average Score: 0.10\tMax Score: 0.50\n",
      "Ep: 1200\tIn 100 epsidoes, Average Score: 0.11\tMax Score: 0.40\n",
      "Ep: 1300\tIn 100 epsidoes, Average Score: 0.14\tMax Score: 0.40\n",
      "Ep: 1400\tIn 100 epsidoes, Average Score: 0.39\tMax Score: 2.60\n",
      "Environment solved in 1416 epsidoes!\tAverage Score: 0.51\n"
     ]
    },
    {
     "data": {
      "image/png": "[encoded data removed]",
      "text/plain": [
       "<Figure size 432x288 with 1 Axes>"
      ]
     },
     "metadata": {
      "needs_background": "light"
     },
     "output_type": "display_data"
    }
   ],
   "source": [
    "agents = [DDPGAgent(STATE_SIZE, ACTION_SIZE, 1234, HIDDEN_UNITS, LR_ACTOR, LR_CRITIC, BATCH_SIZE, GAMMA, MEMORY_SIZE, EPSILON, TAU) for i in range(NUM_AGENTS)]\n",
    "prefix = 'model/p3_ddpg_agent'\n",
    "suffix_actor = '_actor.pth'\n",
    "suffix_critic = '_critic.pth'\n",
    "\n",
    "total_scores = []\n",
    "for ep in range(1, TRAINING_EPISODES+1):\n",
    "    env_info = env.reset(train_mode=True)[brain_name]\n",
    "    state = env_info.vector_observations\n",
    "    scores = np.zeros(NUM_AGENTS)\n",
    "\n",
    "    for i in range(NUM_AGENTS):\n",
    "        agents[i].reset()\n",
    "\n",
    "    while True:\n",
    "        actions = []\n",
    "        for i in range(NUM_AGENTS):\n",
    "            actions.append(agents[i].act(state[i], True))\n",
    "        \n",
    "        env_info = env.step(actions)[brain_name]\n",
    "        reward = env_info.rewards\n",
    "        next_state = env_info.vector_observations\n",
    "        done = env_info.local_done\n",
    "\n",
    "        for i in range(NUM_AGENTS):\n",
    "            agents[i].step(state[i], actions[i], reward[i], next_state[i], done[i])\n",
    "        state = next_state\n",
    "        scores += list(map(lambda i: reward[i], range(NUM_AGENTS)))\n",
    "\n",
    "        if np.any(done):\n",
    "            break\n",
    "\n",
    "    total_scores.append(max(scores))\n",
    "    if ep > 0 and ep % 100 == 0:\n",
    "        print(\"Ep: {}\\tIn 100 epsidoes, Average Score: {:.2f}\\tMax Score: {:.2f}\"\n",
    "              .format(ep, np.mean(total_scores[-100:]), np.max(total_scores[-100:])))\n",
    "\n",
    "    if np.mean(total_scores[-100:]) > 0.5:\n",
    "        print(\"Environment solved in {} epsidoes!\\tAverage Score: {:.2f}\".format(ep, np.mean(total_scores[-100:])))\n",
    "        for i in range(NUM_AGENTS):\n",
    "            torch.save(agents[i].actor_local.state_dict(), prefix + str(i) + suffix_actor)\n",
    "            torch.save(agents[i].critic_local.state_dict(), prefix + str(i) + suffix_critic)\n",
    "        break           \n",
    "\n",
    "fig = plt.figure()\n",
    "ax = fig.add_subplot(111)\n",
    "ax.set_ylim([0, 5])\n",
    "plt.plot(np.arange(1, len(total_scores)+1), total_scores)\n",
    "plt.ylabel('Score')\n",
    "plt.xlabel('Episode #')\n",
    "plt.show()   "
   ]
  },
  {
   "cell_type": "markdown",
   "metadata": {},
   "source": [
    "# 5. Validation"
   ]
  },
  {
   "cell_type": "code",
   "execution_count": 6,
   "metadata": {},
   "outputs": [
    {
     "name": "stdout",
     "output_type": "stream",
     "text": [
      "1 epsidoe score: 2.60, Average score: 2.60\n",
      "2 epsidoe score: 2.60, Average score: 2.60\n",
      "3 epsidoe score: 0.90, Average score: 2.03\n",
      "4 epsidoe score: 0.00, Average score: 1.53\n",
      "5 epsidoe score: 2.60, Average score: 1.74\n",
      "6 epsidoe score: 0.20, Average score: 1.48\n",
      "7 epsidoe score: 0.80, Average score: 1.39\n",
      "8 epsidoe score: 1.99, Average score: 1.46\n",
      "9 epsidoe score: 2.00, Average score: 1.52\n",
      "10 epsidoe score: 0.00, Average score: 1.37\n",
      "11 epsidoe score: 1.10, Average score: 1.34\n",
      "12 epsidoe score: 2.60, Average score: 1.45\n",
      "13 epsidoe score: 0.00, Average score: 1.34\n",
      "14 epsidoe score: 0.50, Average score: 1.28\n",
      "15 epsidoe score: 2.60, Average score: 1.37\n",
      "16 epsidoe score: 0.09, Average score: 1.29\n",
      "17 epsidoe score: 1.90, Average score: 1.32\n",
      "18 epsidoe score: 2.20, Average score: 1.37\n",
      "19 epsidoe score: 2.10, Average score: 1.41\n",
      "20 epsidoe score: 2.30, Average score: 1.45\n",
      "21 epsidoe score: 1.80, Average score: 1.47\n",
      "22 epsidoe score: 1.90, Average score: 1.49\n",
      "23 epsidoe score: 0.40, Average score: 1.44\n",
      "24 epsidoe score: 1.30, Average score: 1.44\n",
      "25 epsidoe score: 0.00, Average score: 1.38\n",
      "26 epsidoe score: 0.30, Average score: 1.34\n",
      "27 epsidoe score: 0.60, Average score: 1.31\n",
      "28 epsidoe score: 1.20, Average score: 1.31\n",
      "29 epsidoe score: 2.60, Average score: 1.35\n",
      "30 epsidoe score: 0.69, Average score: 1.33\n",
      "31 epsidoe score: 0.60, Average score: 1.31\n",
      "32 epsidoe score: 0.20, Average score: 1.27\n",
      "33 epsidoe score: 1.40, Average score: 1.27\n",
      "34 epsidoe score: 0.10, Average score: 1.24\n",
      "35 epsidoe score: 0.00, Average score: 1.20\n",
      "36 epsidoe score: 2.60, Average score: 1.24\n",
      "37 epsidoe score: 0.10, Average score: 1.21\n",
      "38 epsidoe score: 1.10, Average score: 1.21\n",
      "39 epsidoe score: 0.80, Average score: 1.20\n",
      "40 epsidoe score: 1.09, Average score: 1.20\n",
      "41 epsidoe score: 1.10, Average score: 1.19\n",
      "42 epsidoe score: 0.90, Average score: 1.19\n",
      "43 epsidoe score: 2.49, Average score: 1.22\n",
      "44 epsidoe score: 0.40, Average score: 1.20\n",
      "45 epsidoe score: 1.60, Average score: 1.21\n",
      "46 epsidoe score: 2.60, Average score: 1.24\n",
      "47 epsidoe score: 1.69, Average score: 1.25\n",
      "48 epsidoe score: 2.60, Average score: 1.28\n",
      "49 epsidoe score: 0.20, Average score: 1.25\n",
      "50 epsidoe score: 0.00, Average score: 1.23\n",
      "51 epsidoe score: 1.00, Average score: 1.22\n",
      "52 epsidoe score: 2.30, Average score: 1.25\n",
      "53 epsidoe score: 1.40, Average score: 1.25\n",
      "54 epsidoe score: 0.80, Average score: 1.24\n",
      "55 epsidoe score: 0.30, Average score: 1.22\n",
      "56 epsidoe score: 1.70, Average score: 1.23\n",
      "57 epsidoe score: 1.50, Average score: 1.24\n",
      "58 epsidoe score: 1.10, Average score: 1.23\n",
      "59 epsidoe score: 0.10, Average score: 1.21\n",
      "60 epsidoe score: 0.49, Average score: 1.20\n",
      "61 epsidoe score: 1.70, Average score: 1.21\n",
      "62 epsidoe score: 0.10, Average score: 1.19\n",
      "63 epsidoe score: 1.40, Average score: 1.20\n",
      "64 epsidoe score: 1.60, Average score: 1.20\n",
      "65 epsidoe score: 0.50, Average score: 1.19\n",
      "66 epsidoe score: 0.30, Average score: 1.18\n",
      "67 epsidoe score: 0.60, Average score: 1.17\n",
      "68 epsidoe score: 2.60, Average score: 1.19\n",
      "69 epsidoe score: 2.60, Average score: 1.21\n",
      "70 epsidoe score: 0.59, Average score: 1.20\n",
      "71 epsidoe score: 0.70, Average score: 1.19\n",
      "72 epsidoe score: 2.60, Average score: 1.21\n",
      "73 epsidoe score: 0.10, Average score: 1.20\n",
      "74 epsidoe score: 0.10, Average score: 1.18\n",
      "75 epsidoe score: 0.59, Average score: 1.18\n",
      "76 epsidoe score: 2.60, Average score: 1.19\n",
      "77 epsidoe score: 0.10, Average score: 1.18\n",
      "78 epsidoe score: 0.70, Average score: 1.17\n",
      "79 epsidoe score: 0.89, Average score: 1.17\n",
      "80 epsidoe score: 0.00, Average score: 1.16\n",
      "81 epsidoe score: 2.60, Average score: 1.17\n",
      "82 epsidoe score: 1.60, Average score: 1.18\n",
      "83 epsidoe score: 0.60, Average score: 1.17\n",
      "84 epsidoe score: 1.40, Average score: 1.18\n",
      "85 epsidoe score: 1.30, Average score: 1.18\n",
      "86 epsidoe score: 2.60, Average score: 1.19\n",
      "87 epsidoe score: 0.00, Average score: 1.18\n",
      "88 epsidoe score: 2.60, Average score: 1.20\n",
      "89 epsidoe score: 2.60, Average score: 1.21\n",
      "90 epsidoe score: 0.50, Average score: 1.20\n",
      "91 epsidoe score: 2.60, Average score: 1.22\n",
      "92 epsidoe score: 1.79, Average score: 1.22\n",
      "93 epsidoe score: 0.70, Average score: 1.22\n",
      "94 epsidoe score: 1.30, Average score: 1.22\n",
      "95 epsidoe score: 0.00, Average score: 1.21\n",
      "96 epsidoe score: 1.00, Average score: 1.21\n",
      "97 epsidoe score: 0.80, Average score: 1.20\n",
      "98 epsidoe score: 1.50, Average score: 1.20\n",
      "99 epsidoe score: 1.90, Average score: 1.21\n",
      "100 epsidoe score: 0.60, Average score: 1.20\n"
     ]
    },
    {
     "data": {
      "image/png": "[encoded data removed]",
      "text/plain": [
       "<Figure size 432x288 with 1 Axes>"
      ]
     },
     "metadata": {
      "needs_background": "light"
     },
     "output_type": "display_data"
    },
    {
     "name": "stdout",
     "output_type": "stream",
     "text": [
      "Average Score: 1.20\n"
     ]
    }
   ],
   "source": [
    "trained_agents = [DDPGAgent(STATE_SIZE, ACTION_SIZE, 1234, HIDDEN_UNITS, LR_ACTOR, LR_CRITIC, BATCH_SIZE, GAMMA, MEMORY_SIZE, EPSILON, TAU) for i in range(NUM_AGENTS)]\n",
    "for i in range(NUM_AGENTS):\n",
    "    trained_agents[i].actor_local.load_state_dict(torch.load(prefix + str(i) + suffix_actor))\n",
    "    trained_agents[i].critic_local.load_state_dict(torch.load(prefix + str(i) + suffix_critic))\n",
    "\n",
    "total_scores = []\n",
    "for ep in range(1, 101):\n",
    "    env_info = env.reset(train_mode=True)[brain_name]\n",
    "    state = env_info.vector_observations             \n",
    "    scores = np.zeros(NUM_AGENTS)                                        \n",
    "    while True:\n",
    "        actions = []\n",
    "        for i in range(NUM_AGENTS):\n",
    "            actions.append(agents[i].act(state[i], False))        \n",
    "        env_info = env.step(actions)[brain_name]      \n",
    "        state = env_info.vector_observations         \n",
    "        reward = env_info.rewards                         \n",
    "        done = env_info.local_done                        \n",
    "        scores += list(map(lambda i: reward[i], range(NUM_AGENTS)))               \n",
    "        if np.any(done):                                  \n",
    "            break\n",
    "    total_scores.append(max(scores))\n",
    "    print(\"{} epsidoe score: {:.2f}, Average score: {:.2f}\".format(ep, max(scores), np.mean(total_scores)))\n",
    "\n",
    "fig = plt.figure()\n",
    "ax = fig.add_subplot(111)\n",
    "ax.set_ylim([0, 5])\n",
    "x = range(1, len(total_scores)+1)\n",
    "ax.plot(x, total_scores, color='blue')\n",
    "ax.plot(x, np.ones_like(x) * np.mean(total_scores), color='red')\n",
    "\n",
    "plt.ylabel('Score')\n",
    "plt.xlabel('Episode #')\n",
    "plt.show()   \n",
    "print('Average Score: {:.2f}'.format(np.mean(total_scores)))"
   ]
  },
  {
   "cell_type": "code",
   "execution_count": 7,
   "metadata": {},
   "outputs": [],
   "source": [
    "env.close()"
   ]
  }
 ],
 "metadata": {
  "kernelspec": {
   "display_name": "Udacity",
   "language": "python",
   "name": "udacity"
  },
  "language_info": {
   "codemirror_mode": {
    "name": "ipython",
    "version": 3
   },
   "file_extension": ".py",
   "mimetype": "text/x-python",
   "name": "python",
   "nbconvert_exporter": "python",
   "pygments_lexer": "ipython3",
   "version": "3.6.7"
  }
 },
 "nbformat": 4,
 "nbformat_minor": 2
}
