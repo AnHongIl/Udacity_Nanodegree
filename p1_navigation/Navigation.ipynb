{
 "cells": [
  {
   "cell_type": "markdown",
   "metadata": {},
   "source": [
    "# 0. Overview\n",
    "\n",
    "- Objectives\n",
    "  - The goal is to get an average score of +13 over 100 consecutive episodes.\n",
    "- Applied algorithms\n",
    "  - Deep Q networks with Replay Memory\n",
    "  - Double Deep Q networks\n",
    "  - Dueling Network Architecture"
   ]
  },
  {
   "cell_type": "markdown",
   "metadata": {},
   "source": [
    "# 1. Setup the environment\n",
    "- Prepare unity environment with Banana\n",
    "- Import required libraries\n",
    "- Import network"
   ]
  },
  {
   "cell_type": "code",
   "execution_count": 1,
   "metadata": {
    "scrolled": false
   },
   "outputs": [],
   "source": [
    "from unityagents import UnityEnvironment\n",
    "import numpy as np\n",
    "import tensorflow as tf\n",
    "import matplotlib.pyplot as plt\n",
    "import time\n",
    "\n",
    "from src.DQNAgent import Agent"
   ]
  },
  {
   "cell_type": "markdown",
   "metadata": {},
   "source": [
    "# 2.  Get the default brain"
   ]
  },
  {
   "cell_type": "code",
   "execution_count": 2,
   "metadata": {
    "scrolled": false
   },
   "outputs": [
    {
     "name": "stderr",
     "output_type": "stream",
     "text": [
      "INFO:unityagents:\n",
      "'Academy' started successfully!\n",
      "Unity Academy name: Academy\n",
      "        Number of Brains: 1\n",
      "        Number of External Brains : 1\n",
      "        Lesson number : 0\n",
      "        Reset Parameters :\n",
      "\t\t\n",
      "Unity brain name: BananaBrain\n",
      "        Number of Visual Observations (per agent): 0\n",
      "        Vector Observation space type: continuous\n",
      "        Vector Observation space size (per agent): 37\n",
      "        Number of stacked Vector Observation: 1\n",
      "        Vector Action space type: discrete\n",
      "        Vector Action space size (per agent): 4\n",
      "        Vector Action descriptions: , , , \n"
     ]
    }
   ],
   "source": [
    "env = UnityEnvironment(file_name=\"Banana_Windows_x86_64/Banana.exe\")\n",
    "\n",
    "brain_name = env.brain_names[0]\n",
    "brain = env.brains[brain_name]"
   ]
  },
  {
   "cell_type": "markdown",
   "metadata": {},
   "source": [
    "# 3. Set hyperparameters"
   ]
  },
  {
   "cell_type": "code",
   "execution_count": 3,
   "metadata": {
    "scrolled": false
   },
   "outputs": [],
   "source": [
    "train_episodes = 3000     \n",
    "\n",
    "#Environment parameters\n",
    "state_size = 37\n",
    "action_size = 4\n",
    "\n",
    "#DQN parameters\n",
    "learning_rate = 1e-3\n",
    "gamma = 0.95                   \n",
    "hidden_size = 150\n",
    "update_every = int(1e4)\n",
    "tau = 1e-3\n",
    "\n",
    "#Exploration parameters\n",
    "explore_stop = 1e-2            \n",
    "decay_rate = 1e-5\n",
    "\n",
    "#Memory parameters\n",
    "memory_size = int(1e6)\n",
    "batch_size = 32"
   ]
  },
  {
   "cell_type": "markdown",
   "metadata": {},
   "source": [
    "# 4. Train"
   ]
  },
  {
   "cell_type": "code",
   "execution_count": 4,
   "metadata": {
    "scrolled": true
   },
   "outputs": [
    {
     "name": "stdout",
     "output_type": "stream",
     "text": [
      "Ep 50\tIn 100 episodes, Average Scores: 0.098\tMax Score: 3.0\tMin Score: -3.0\tloss: 0.00768\tex_p: 0.86\ttime: 62.90\n",
      "Ep 100\tIn 100 episodes, Average Scores: 0.380\tMax Score: 5.0\tMin Score: -3.0\tloss: 0.02426\tex_p: 0.74\ttime: 67.77\n",
      "Ep 150\tIn 100 episodes, Average Scores: 0.870\tMax Score: 5.0\tMin Score: -2.0\tloss: 0.01834\tex_p: 0.64\ttime: 71.41\n",
      "Ep 200\tIn 100 episodes, Average Scores: 1.840\tMax Score: 8.0\tMin Score: -2.0\tloss: 0.01348\tex_p: 0.55\ttime: 77.34\n",
      "Ep 250\tIn 100 episodes, Average Scores: 3.320\tMax Score: 9.0\tMin Score: -2.0\tloss: 0.01386\tex_p: 0.48\ttime: 82.34\n",
      "Ep 300\tIn 100 episodes, Average Scores: 4.290\tMax Score: 11.0\tMin Score: -1.0\tloss: 0.01410\tex_p: 0.41\ttime: 92.12\n",
      "Ep 350\tIn 100 episodes, Average Scores: 5.320\tMax Score: 12.0\tMin Score: 0.0\tloss: 0.01211\tex_p: 0.36\ttime: 94.74\n",
      "Ep 400\tIn 100 episodes, Average Scores: 6.480\tMax Score: 15.0\tMin Score: -1.0\tloss: 0.01408\tex_p: 0.31\ttime: 99.77\n",
      "Ep 450\tIn 100 episodes, Average Scores: 7.030\tMax Score: 16.0\tMin Score: -2.0\tloss: 0.01438\tex_p: 0.27\ttime: 110.87\n",
      "Ep 500\tIn 100 episodes, Average Scores: 7.440\tMax Score: 18.0\tMin Score: -2.0\tloss: 0.01446\tex_p: 0.23\ttime: 122.76\n",
      "Ep 550\tIn 100 episodes, Average Scores: 8.460\tMax Score: 18.0\tMin Score: 1.0\tloss: 0.01530\tex_p: 0.20\ttime: 135.98\n",
      "Ep 600\tIn 100 episodes, Average Scores: 9.120\tMax Score: 19.0\tMin Score: 0.0\tloss: 0.01676\tex_p: 0.17\ttime: 155.85\n",
      "Ep 650\tIn 100 episodes, Average Scores: 9.810\tMax Score: 19.0\tMin Score: 0.0\tloss: 0.01674\tex_p: 0.15\ttime: 156.78\n",
      "Ep 700\tIn 100 episodes, Average Scores: 10.560\tMax Score: 19.0\tMin Score: 2.0\tloss: 0.01668\tex_p: 0.13\ttime: 161.60\n",
      "Ep 750\tIn 100 episodes, Average Scores: 11.220\tMax Score: 21.0\tMin Score: 2.0\tloss: 0.01637\tex_p: 0.11\ttime: 176.21\n",
      "Ep 800\tIn 100 episodes, Average Scores: 11.720\tMax Score: 24.0\tMin Score: 2.0\tloss: 0.01676\tex_p: 0.10\ttime: 180.94\n",
      "Ep 850\tIn 100 episodes, Average Scores: 11.860\tMax Score: 24.0\tMin Score: 2.0\tloss: 0.01580\tex_p: 0.09\ttime: 205.54\n",
      "Ep 900\tIn 100 episodes, Average Scores: 11.970\tMax Score: 23.0\tMin Score: 2.0\tloss: 0.01668\tex_p: 0.08\ttime: 248.54\n",
      "Ep 950\tIn 100 episodes, Average Scores: 12.450\tMax Score: 21.0\tMin Score: 2.0\tloss: 0.01879\tex_p: 0.07\ttime: 275.46\n",
      "Ep 1000\tIn 100 episodes, Average Scores: 13.240\tMax Score: 22.0\tMin Score: 5.0\tloss: 0.01464\tex_p: 0.06\ttime: 307.95\n",
      "Ep 1050\tIn 100 episodes, Average Scores: 13.280\tMax Score: 22.0\tMin Score: 5.0\tloss: 0.01492\tex_p: 0.05\ttime: 317.26\n",
      "Ep 1100\tIn 100 episodes, Average Scores: 13.380\tMax Score: 22.0\tMin Score: 5.0\tloss: 0.01703\tex_p: 0.05\ttime: 309.50\n",
      "Ep 1150\tIn 100 episodes, Average Scores: 13.740\tMax Score: 22.0\tMin Score: 4.0\tloss: 0.01725\tex_p: 0.04\ttime: 318.78\n",
      "Ep 1200\tIn 100 episodes, Average Scores: 14.100\tMax Score: 22.0\tMin Score: 4.0\tloss: 0.01579\tex_p: 0.04\ttime: 342.86\n",
      "Ep 1250\tIn 100 episodes, Average Scores: 13.860\tMax Score: 22.0\tMin Score: 2.0\tloss: 0.01709\tex_p: 0.03\ttime: 303.31\n",
      "Ep 1300\tIn 100 episodes, Average Scores: 13.510\tMax Score: 23.0\tMin Score: 2.0\tloss: 0.01713\tex_p: 0.03\ttime: 274.92\n",
      "Ep 1350\tIn 100 episodes, Average Scores: 13.450\tMax Score: 23.0\tMin Score: 3.0\tloss: 0.01764\tex_p: 0.03\ttime: 284.27\n",
      "Ep 1400\tIn 100 episodes, Average Scores: 13.260\tMax Score: 21.0\tMin Score: 3.0\tloss: 0.01763\tex_p: 0.02\ttime: 318.46\n",
      "Ep 1450\tIn 100 episodes, Average Scores: 13.920\tMax Score: 23.0\tMin Score: 3.0\tloss: 0.01857\tex_p: 0.02\ttime: 291.13\n",
      "Environment solved in 1499 episodes, Average Scores: 15.04\n"
     ]
    },
    {
     "data": {
      "image/png": "[encoded data removed]",
      "text/plain": [
       "<Figure size 432x288 with 1 Axes>"
      ]
     },
     "metadata": {
      "needs_background": "light"
     },
     "output_type": "display_data"
    }
   ],
   "source": [
    "tf.reset_default_graph()\n",
    "with tf.device(\"/device:GPU:0\"):    \n",
    "    agent = Agent(state_size, action_size, hidden_size, memory_size, batch_size, explore_stop, decay_rate, gamma, learning_rate, tau, update_every)\n",
    "\n",
    "save_file = 'model/p1_dqn.ckpt'\n",
    "saver = tf.train.Saver()\n",
    "\n",
    "with tf.Session(config=tf.ConfigProto(allow_soft_placement=True)) as sess:\n",
    "    sess.run(tf.global_variables_initializer())\n",
    "    \n",
    "    agent.set_session(sess)    \n",
    "    agent.hard_update()\n",
    "       \n",
    "    scores = []\n",
    "    start = time.time()\n",
    "    for ep in range(train_episodes):\n",
    "        env_info = env.reset(train_mode=True)[brain_name]\n",
    "        state = env_info.vector_observations[0]\n",
    "        \n",
    "        agent.reset()\n",
    "\n",
    "        score = 0\n",
    "        while True: \n",
    "            action, ex_p = agent.act(state, True)\n",
    "\n",
    "            env_info = env.step(action)[brain_name]\n",
    "            next_state = env_info.vector_observations[0]            \n",
    "            reward = env_info.rewards[0]\n",
    "            done = env_info.local_done[0]\n",
    "            score += reward\n",
    "                        \n",
    "            agent.step(state, action, reward, next_state, done)\n",
    "            \n",
    "            if done:\n",
    "                break\n",
    "            \n",
    "            state = next_state\n",
    "            \n",
    "        scores.append(score)\n",
    "        if ep > 0 and ep % 50 == 0:\n",
    "            print(\"Ep {}\\tIn 100 episodes, Average Scores: {:.3f}\\tMax Score: {}\\tMin Score: {}\\tloss: {:.5f}\\tex_p: {:.2f}\\ttime: {:.2f}\"\n",
    "                  .format(ep, np.mean(scores[-100:]), np.max(scores[-100:]), np.amin(scores[-100:]), np.mean(agent.loss), ex_p, time.time() - start))\n",
    "            start = time.time()\n",
    "        \n",
    "        if np.mean(scores[-100:]) > 15.0:\n",
    "            saver.save(sess, save_file)\n",
    "            print(\"Environment solved in {} episodes, Average Scores: {}\".format(ep+1, np.mean(scores[-100:])))\n",
    "            break\n",
    "            \n",
    "fig = plt.figure()\n",
    "fig.add_subplot(111)\n",
    "plt.plot(np.arange(len(scores)), scores)\n",
    "plt.xlabel(\"Episodes\")\n",
    "plt.ylabel(\"Scores\")\n",
    "plt.show()            "
   ]
  },
  {
   "cell_type": "markdown",
   "metadata": {},
   "source": [
    "# 5. Validation"
   ]
  },
  {
   "cell_type": "code",
   "execution_count": 4,
   "metadata": {
    "scrolled": true
   },
   "outputs": [
    {
     "name": "stderr",
     "output_type": "stream",
     "text": [
      "INFO:tensorflow:Restoring parameters from model/p1_dqn.ckpt\n"
     ]
    },
    {
     "name": "stdout",
     "output_type": "stream",
     "text": [
      "Ep: 1, Score: 16.0\n",
      "Ep: 2, Score: 14.0\n",
      "Ep: 3, Score: 12.0\n",
      "Ep: 4, Score: 16.0\n",
      "Ep: 5, Score: 14.0\n",
      "Ep: 6, Score: 13.0\n",
      "Ep: 7, Score: 21.0\n",
      "Ep: 8, Score: 17.0\n",
      "Ep: 9, Score: 15.0\n",
      "Ep: 10, Score: 9.0\n",
      "Ep: 11, Score: 19.0\n",
      "Ep: 12, Score: 13.0\n",
      "Ep: 13, Score: 15.0\n",
      "Ep: 14, Score: 15.0\n",
      "Ep: 15, Score: 17.0\n",
      "Ep: 16, Score: 15.0\n",
      "Ep: 17, Score: 19.0\n",
      "Ep: 18, Score: 17.0\n",
      "Ep: 19, Score: 14.0\n",
      "Ep: 20, Score: 12.0\n",
      "Ep: 21, Score: 9.0\n",
      "Ep: 22, Score: 12.0\n",
      "Ep: 23, Score: 16.0\n",
      "Ep: 24, Score: 14.0\n",
      "Ep: 25, Score: 17.0\n",
      "Ep: 26, Score: 16.0\n",
      "Ep: 27, Score: 11.0\n",
      "Ep: 28, Score: 11.0\n",
      "Ep: 29, Score: 11.0\n",
      "Ep: 30, Score: 9.0\n",
      "Ep: 31, Score: 15.0\n",
      "Ep: 32, Score: 12.0\n",
      "Ep: 33, Score: 16.0\n",
      "Ep: 34, Score: 16.0\n",
      "Ep: 35, Score: 18.0\n",
      "Ep: 36, Score: 19.0\n",
      "Ep: 37, Score: 17.0\n",
      "Ep: 38, Score: 10.0\n",
      "Ep: 39, Score: 15.0\n",
      "Ep: 40, Score: 9.0\n",
      "Ep: 41, Score: 19.0\n",
      "Ep: 42, Score: 16.0\n",
      "Ep: 43, Score: 14.0\n",
      "Ep: 44, Score: 13.0\n",
      "Ep: 45, Score: 14.0\n",
      "Ep: 46, Score: 11.0\n",
      "Ep: 47, Score: 9.0\n",
      "Ep: 48, Score: 16.0\n",
      "Ep: 49, Score: 10.0\n",
      "Ep: 50, Score: 13.0\n",
      "Ep: 51, Score: 19.0\n",
      "Ep: 52, Score: 17.0\n",
      "Ep: 53, Score: 12.0\n",
      "Ep: 54, Score: 15.0\n",
      "Ep: 55, Score: 13.0\n",
      "Ep: 56, Score: 18.0\n",
      "Ep: 57, Score: 15.0\n",
      "Ep: 58, Score: 15.0\n",
      "Ep: 59, Score: 17.0\n",
      "Ep: 60, Score: 11.0\n",
      "Ep: 61, Score: 13.0\n",
      "Ep: 62, Score: 12.0\n",
      "Ep: 63, Score: 12.0\n",
      "Ep: 64, Score: 18.0\n",
      "Ep: 65, Score: 14.0\n",
      "Ep: 66, Score: 20.0\n",
      "Ep: 67, Score: 14.0\n",
      "Ep: 68, Score: 9.0\n",
      "Ep: 69, Score: 18.0\n",
      "Ep: 70, Score: 15.0\n",
      "Ep: 71, Score: 10.0\n",
      "Ep: 72, Score: 17.0\n",
      "Ep: 73, Score: 14.0\n",
      "Ep: 74, Score: 16.0\n",
      "Ep: 75, Score: 16.0\n",
      "Ep: 76, Score: 13.0\n",
      "Ep: 77, Score: 16.0\n",
      "Ep: 78, Score: 14.0\n",
      "Ep: 79, Score: 10.0\n",
      "Ep: 80, Score: 17.0\n",
      "Ep: 81, Score: 17.0\n",
      "Ep: 82, Score: 17.0\n",
      "Ep: 83, Score: 11.0\n",
      "Ep: 84, Score: 13.0\n",
      "Ep: 85, Score: 13.0\n",
      "Ep: 86, Score: 16.0\n",
      "Ep: 87, Score: 21.0\n",
      "Ep: 88, Score: 6.0\n",
      "Ep: 89, Score: 20.0\n",
      "Ep: 90, Score: 17.0\n",
      "Ep: 91, Score: 16.0\n",
      "Ep: 92, Score: 14.0\n",
      "Ep: 93, Score: 12.0\n",
      "Ep: 94, Score: 16.0\n",
      "Ep: 95, Score: 13.0\n",
      "Ep: 96, Score: 13.0\n",
      "Ep: 97, Score: 16.0\n",
      "Ep: 98, Score: 12.0\n",
      "Ep: 99, Score: 14.0\n",
      "Ep: 100, Score: 14.0\n"
     ]
    },
    {
     "data": {
      "image/png": "[encoded data removed]",
      "text/plain": [
       "<Figure size 432x288 with 1 Axes>"
      ]
     },
     "metadata": {
      "needs_background": "light"
     },
     "output_type": "display_data"
    },
    {
     "name": "stdout",
     "output_type": "stream",
     "text": [
      "Average score: 14.42\n"
     ]
    }
   ],
   "source": [
    "tf.reset_default_graph()\n",
    "with tf.device(\"/device:GPU:0\"):    \n",
    "    trained_agent = Agent(state_size, action_size, hidden_size, memory_size, batch_size, explore_stop, decay_rate, gamma, learning_rate, tau, update_every)\n",
    "\n",
    "saver = tf.train.Saver()\n",
    "save_file = 'model/p1_dqn.ckpt'\n",
    "\n",
    "with tf.Session(config=tf.ConfigProto(allow_soft_placement=True)) as sess:\n",
    "    saver.restore(sess, save_file)\n",
    "    \n",
    "    trained_agent.set_session(sess)        \n",
    "    \n",
    "    scores = []\n",
    "    for ep in range(1, 101):\n",
    "        env_info = env.reset(train_mode=True)[brain_name]\n",
    "        state = env_info.vector_observations[0]\n",
    "        \n",
    "        score = 0                                          # initialize the score        \n",
    "        while True:\n",
    "            action = trained_agent.act(state, False)\n",
    "            \n",
    "            env_info = env.step(action)[brain_name]\n",
    "            state = env_info.vector_observations[0]            \n",
    "            reward = env_info.rewards[0]\n",
    "            done = env_info.local_done[0]\n",
    "            score += reward\n",
    "            \n",
    "            if done:\n",
    "                break\n",
    "                                    \n",
    "        scores.append(score)            \n",
    "        print(\"Ep: {}, Score: {}\".format(ep, score))\n",
    "\n",
    "fig = plt.figure()\n",
    "ax = fig.add_subplot(111)\n",
    "plt.plot(np.arange(len(scores)), scores)\n",
    "plt.xlabel(\"Episodes\")\n",
    "plt.ylabel(\"Scores\")\n",
    "plt.ylim(0, 30)\n",
    "x = np.arange(1, len(scores)+1)\n",
    "ax.plot(x, np.ones_like(x) * np.mean(scores), color='red')\n",
    "plt.show()  \n",
    "print(\"Average score: {}\".format(np.mean(scores)))    "
   ]
  },
  {
   "cell_type": "code",
   "execution_count": 8,
   "metadata": {
    "scrolled": false
   },
   "outputs": [],
   "source": [
    "env.close()"
   ]
  }
 ],
 "metadata": {
  "kernelspec": {
   "display_name": "drlnd",
   "language": "python",
   "name": "drlnd"
  },
  "language_info": {
   "codemirror_mode": {
    "name": "ipython",
    "version": 3
   },
   "file_extension": ".py",
   "mimetype": "text/x-python",
   "name": "python",
   "nbconvert_exporter": "python",
   "pygments_lexer": "ipython3",
   "version": "3.6.7"
  }
 },
 "nbformat": 4,
 "nbformat_minor": 2
}
